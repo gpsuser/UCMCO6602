{
 "cells": [
  {
   "cell_type": "markdown",
   "metadata": {},
   "source": [
    "<https://www.geeksforgeeks.org/feistel-cipher/>\n",
    "<https://www.youtube.com/watch?v=FGhj3CGxl8I>\n",
    "<https://www.youtube.com/watch?v=8l9xAvuGJFo>\n",
    "\n",
    "<https://www.geeksforgeeks.org/data-encryption-standard-des-set-1/>\n",
    "<https://www.youtube.com/watch?v=j53iXhTSi_s>\n",
    "<https://www.youtube.com/watch?v=nynAQ593HdU>\n",
    "\n",
    "<https://www.youtube.com/watch?v=KrRD7r7y7NY>"
   ]
  },
  {
   "cell_type": "code",
   "execution_count": 1,
   "metadata": {},
   "outputs": [],
   "source": [
    "# Python program to demonstrate\n",
    "# Feistel Cipher Algorithm\n",
    "\n",
    "import binascii\n",
    "\n",
    "# Random bits key generation\n",
    "def rand_key(p):\n",
    "\t\n",
    "\timport random\n",
    "\tkey1 = \"\"\n",
    "\tp = int(p)\n",
    "\t\n",
    "\tfor i in range(p):\n",
    "\t\t\n",
    "\t\ttemp = random.randint(0,1)\n",
    "\t\ttemp = str(temp)\n",
    "\t\tkey1 = key1 + temp\n",
    "\t\t\n",
    "\treturn(key1)"
   ]
  },
  {
   "cell_type": "code",
   "execution_count": 2,
   "metadata": {},
   "outputs": [],
   "source": [
    "# Function to implement bit exor\n",
    "def exor(a,b):\n",
    "\t\n",
    "\ttemp = \"\" \n",
    "\t\n",
    "\tfor i in range(n): \n",
    "\t\t\n",
    "\t\tif (a[i] == b[i]):\n",
    "\t\t\ttemp += \"0\"\n",
    "\t\t\t\n",
    "\t\telse: \n",
    "\t\t\ttemp += \"1\"\n",
    "\t\t\t\n",
    "\treturn temp "
   ]
  },
  {
   "cell_type": "code",
   "execution_count": 3,
   "metadata": {},
   "outputs": [],
   "source": [
    "# Defining BinarytoDecimal() function \n",
    "def BinaryToDecimal(binary): \n",
    "\t\n",
    "\t# Using int function to convert to \n",
    "\t# string \n",
    "\tstring = int(binary, 2) \n",
    "\t\n",
    "\treturn string"
   ]
  },
  {
   "cell_type": "code",
   "execution_count": 4,
   "metadata": {},
   "outputs": [
    {
     "name": "stdout",
     "output_type": "stream",
     "text": [
      "Plain Text is: sunshine\n"
     ]
    }
   ],
   "source": [
    "# Feistel Cipher\n",
    "PT = \"sunshine\"\n",
    "print(\"Plain Text is:\", PT)"
   ]
  },
  {
   "cell_type": "code",
   "execution_count": 5,
   "metadata": {},
   "outputs": [
    {
     "data": {
      "text/plain": [
       "[115, 117, 110, 115, 104, 105, 110, 101]"
      ]
     },
     "execution_count": 5,
     "metadata": {},
     "output_type": "execute_result"
    }
   ],
   "source": [
    "# Converting the plain text to\n",
    "# ASCII\n",
    "PT_Ascii = [ord(x) for x in PT]\n",
    "PT_Ascii"
   ]
  },
  {
   "cell_type": "code",
   "execution_count": 6,
   "metadata": {},
   "outputs": [
    {
     "data": {
      "text/plain": [
       "'0111001101110101011011100111001101101000011010010110111001100101'"
      ]
     },
     "execution_count": 6,
     "metadata": {},
     "output_type": "execute_result"
    }
   ],
   "source": [
    "# Converting the ASCII to \n",
    "# 8-bit binary format\n",
    "PT_Bin = [format(y,'08b') for y in PT_Ascii]\n",
    "PT_Bin = \"\".join(PT_Bin)\n",
    "PT_Bin"
   ]
  },
  {
   "cell_type": "code",
   "execution_count": 10,
   "metadata": {},
   "outputs": [
    {
     "name": "stdout",
     "output_type": "stream",
     "text": [
      "n:  32\n",
      "Length of L1 is: 32\n",
      "Length of R1 is: 32\n",
      "Length of R1 is: 32\n",
      "L1 is: 01110011011101010110111001110011\n",
      "R1 is: 01101000011010010110111001100101\n"
     ]
    }
   ],
   "source": [
    "n = int(len(PT_Bin)//2)\n",
    "L1 = PT_Bin[0:n]\n",
    "R1 = PT_Bin[n::]\n",
    "m = len(R1)\n",
    "\n",
    "print(\"n: \", n)\n",
    "print(\"Length of L1 is:\", len(L1))\n",
    "print(\"Length of R1 is:\", len(R1))\n",
    "print(\"Length of R1 is:\", m)\n",
    "print(\"L1 is:\", L1)\n",
    "print(\"R1 is:\", R1)"
   ]
  },
  {
   "cell_type": "code",
   "execution_count": 8,
   "metadata": {},
   "outputs": [
    {
     "name": "stdout",
     "output_type": "stream",
     "text": [
      "Key K1 is: 11000001101100101101000100001000\n",
      "Key K2 is: 00011100100111101111111001011110\n"
     ]
    }
   ],
   "source": [
    "# Generate Key K1 for the \n",
    "# first round\n",
    "K1= rand_key(m)\n",
    "print(\"Key K1 is:\", K1)\n",
    "\n",
    "# Generate Key K2 for the\n",
    "# second round\n",
    "K2= rand_key(m)\n",
    "print(\"Key K2 is:\", K2)"
   ]
  },
  {
   "cell_type": "code",
   "execution_count": 11,
   "metadata": {},
   "outputs": [
    {
     "name": "stdout",
     "output_type": "stream",
     "text": [
      "f1 is: 10101001110110111011111101101101\n",
      "L2 is: 01101000011010010110111001100101\n",
      "R2 is: 11011010101011101101000100011110\n"
     ]
    }
   ],
   "source": [
    "# first round of Feistel\n",
    "f1 = exor(R1,K1)\n",
    "R2 = exor(f1,L1)\n",
    "L2 = R1\n",
    "\n",
    "print(\"f1 is:\", f1)\n",
    "print(\"L2 is:\", L2)\n",
    "print(\"R2 is:\", R2)\n"
   ]
  },
  {
   "cell_type": "code",
   "execution_count": 12,
   "metadata": {},
   "outputs": [
    {
     "name": "stdout",
     "output_type": "stream",
     "text": [
      "f2 is: 11000110001100000010111101000000\n",
      "L3 is: 11011010101011101101000100011110\n",
      "R3 is: 10101110010110010100000100100101\n"
     ]
    }
   ],
   "source": [
    "# Second round of Feistel\n",
    "f2 = exor(R2,K2)\n",
    "R3 = exor(f2,L2)\n",
    "L3 = R2\n",
    "\n",
    "print(\"f2 is:\", f2)\n",
    "print(\"L3 is:\", L3)\n",
    "print(\"R3 is:\", R3)\n"
   ]
  },
  {
   "cell_type": "code",
   "execution_count": 17,
   "metadata": {},
   "outputs": [
    {
     "name": "stdout",
     "output_type": "stream",
     "text": [
      "Cipher Text in Binary is: 1101101010101110110100010001111010101110010110010100000100100101\n"
     ]
    }
   ],
   "source": [
    "# Cipher text\n",
    "bin_data = L3 + R3\n",
    "str_data =' '\n",
    "\n",
    "print(\"Cipher Text in Binary is:\", bin_data)"
   ]
  },
  {
   "cell_type": "code",
   "execution_count": 18,
   "metadata": {},
   "outputs": [
    {
     "name": "stdout",
     "output_type": "stream",
     "text": [
      "Cipher Text as text is:  m+Z\u0011u92A\u0012\u0001\n"
     ]
    }
   ],
   "source": [
    "for i in range(0, len(bin_data), 7): \n",
    "\t\n",
    "\t# slicing the bin_data from index range [0, 6] \n",
    "\t# and storing it in temp_data \n",
    "\ttemp_data = bin_data[i:i + 7] \n",
    "\t\t\n",
    "\t# passing temp_data in BinarytoDecimal() function \n",
    "\t# to get decimal value of corresponding temp_data \n",
    "\tdecimal_data = BinaryToDecimal(temp_data) \n",
    "\t\t\n",
    "\t# Decoding the decimal value returned by \n",
    "\t# BinarytoDecimal() function, using chr() \n",
    "\t# function which return the string corresponding \n",
    "\t# character for given ASCII value, and store it \n",
    "\t# in str_data \n",
    "\tstr_data = str_data + chr(decimal_data) \n",
    "\t\n",
    "print(\"Cipher Text as text is:\", str_data)"
   ]
  },
  {
   "cell_type": "code",
   "execution_count": 19,
   "metadata": {},
   "outputs": [
    {
     "name": "stdout",
     "output_type": "stream",
     "text": [
      "Retrieved Plain Text is:  b'sunshine'\n"
     ]
    }
   ],
   "source": [
    "\n",
    "# Decryption\n",
    "L4 = L3\n",
    "R4 = R3\n",
    "\n",
    "f3 = exor(L4,K2)\n",
    "L5 = exor(R4,f3)\n",
    "R5 = L4\n",
    "\n",
    "f4 = exor(L5,K1)\n",
    "L6 = exor(R5,f4)\n",
    "R6 = L5\n",
    "PT1 = L6+R6\n",
    "\n",
    "\n",
    "PT1 = int(PT1, 2)\n",
    "RPT = binascii.unhexlify( '%x'% PT1)\n",
    "print(\"Retrieved Plain Text is: \", RPT)\n"
   ]
  },
  {
   "cell_type": "code",
   "execution_count": null,
   "metadata": {},
   "outputs": [],
   "source": []
  },
  {
   "cell_type": "code",
   "execution_count": null,
   "metadata": {},
   "outputs": [],
   "source": []
  },
  {
   "cell_type": "code",
   "execution_count": null,
   "metadata": {},
   "outputs": [],
   "source": []
  }
 ],
 "metadata": {
  "kernelspec": {
   "display_name": "Python 3",
   "language": "python",
   "name": "python3"
  },
  "language_info": {
   "codemirror_mode": {
    "name": "ipython",
    "version": 3
   },
   "file_extension": ".py",
   "mimetype": "text/x-python",
   "name": "python",
   "nbconvert_exporter": "python",
   "pygments_lexer": "ipython3",
   "version": "3.10.10"
  }
 },
 "nbformat": 4,
 "nbformat_minor": 2
}
