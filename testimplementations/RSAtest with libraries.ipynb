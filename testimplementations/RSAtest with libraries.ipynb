{
 "cells": [
  {
   "cell_type": "code",
   "execution_count": 1,
   "metadata": {},
   "outputs": [
    {
     "name": "stdout",
     "output_type": "stream",
     "text": [
      "Original Message: b'Hello, Bob! This is a secure message from Alice.'\n",
      "Encrypted Message: b'\\x03\\xd1e\\x1fL\\x01\\xfc\\xdb\\x0f\\x86\\xdb\\xe0\\xe3\\xd6\\x97+.\\xfe\\xf2 \\xfb\\xad6\\xe4\\xf7+\\xd7\\x8d\\xfb#qBB\\x9a~\\x91\\xb0U\\xcd\\x9c\\xb8\\x9c\\xed\\xeb\\x10Kh\\xb7\\xdc\\xdd7\\xeeG|h\\xe9\\x84\\x1cP\\xb4\\xe9\\t\\xbaVU#\\xa3\\x04u\\xd5K\\\\:\\xeb\\x8c\\x87C\\xd1\\x0f*w\\xb2\\x85\\xb3k\\xeb\\xbb[:8\\x0f%+\\xbdEG\\xee\\x15\\x1d\\x12\\xcc>\\x90\\x07\\xca\\xc6\\x8aO\\xb3\\x10<M\\n\\x83\\x8c\\xcb\\x98\\xec\\xd6\\x1f_3\\xa4$3\\xfc\\xd2\\xd0\\xca\\xe0r\\xe5\\xc2\\x92\\xb6\\xe2\\xabZpG\\xcb\\x91\\xe6\\xc5y\\r`b\\xaa?6@O\\x08\\xb4\\xda\\xaf\\x92w\\xcf\\x86\\x94\\xe0\\xef\\xbc\\x16\\xc5N\\xebq\\x9e\\x92\\xa7RD\\x99\\xaci\\x88\\xe4\\xb3\\xe4\\xb5\\xd5\\xfb\\x0fP\\xa9\\x07\\xe7\\xb5p\\x93\\xd6\\x9b5\\xa6\\xa1\\x82\\xccVH4P\\xda\\xf4g\\xe8\\xb7^X\\xd2\\xd9\\x1b#\\xbfse\\x01&\\xa6\\x9a\\xec\\xdc\\xe2\\x92\\xee\\xb9\\xcd\\xf8\\xe9\\x00k\\xb6\\r\\x1fl^>\\x87\\xf4\\xf9\\xe6\\xfd\\xb9G\\x87\\xa8\\xdf\\xd2X\\xa7\\x10\\xd0\\xda#'\n",
      "Decrypted Message: b'Hello, Bob! This is a secure message from Alice.'\n",
      "Signature verified!\n"
     ]
    }
   ],
   "source": [
    "from Crypto.PublicKey import RSA\n",
    "from Crypto.Cipher import PKCS1_OAEP\n",
    "from Crypto.Signature import pkcs1_15\n",
    "from Crypto.Hash import SHA256\n",
    "\n",
    "def generate_keys():\n",
    "    key = RSA.generate(2048)\n",
    "    private_key = key.export_key()\n",
    "    public_key = key.publickey().export_key()\n",
    "    return private_key, public_key\n",
    "\n",
    "def encrypt(message, pub_key):\n",
    "    rsa_key = RSA.importKey(pub_key)\n",
    "    rsa_key = PKCS1_OAEP.new(rsa_key)\n",
    "    encrypted = rsa_key.encrypt(message)\n",
    "    return encrypted\n",
    "\n",
    "def decrypt(ciphertext, priv_key):\n",
    "    rsa_key = RSA.importKey(priv_key)\n",
    "    rsa_key = PKCS1_OAEP.new(rsa_key)\n",
    "    decrypted = rsa_key.decrypt(ciphertext)\n",
    "    return decrypted\n",
    "\n",
    "def sign(message, priv_key):\n",
    "    rsa_key = RSA.importKey(priv_key)\n",
    "    signer = pkcs1_15.new(rsa_key)\n",
    "    digest = SHA256.new()\n",
    "    digest.update(message)\n",
    "    sign = signer.sign(digest)\n",
    "    return sign\n",
    "\n",
    "def verify(message, signature, pub_key):\n",
    "    rsa_key = RSA.importKey(pub_key)\n",
    "    signer = pkcs1_15.new(rsa_key)\n",
    "    digest = SHA256.new()\n",
    "    digest.update(message)\n",
    "    try:\n",
    "        signer.verify(digest, signature)\n",
    "        return True\n",
    "    except (ValueError, TypeError):\n",
    "        return False\n",
    "\n",
    "# Example usage\n",
    "alice_private, alice_public = generate_keys()\n",
    "bob_private, bob_public = generate_keys()\n",
    "\n",
    "message = b'Hello, Bob! This is a secure message from Alice.'\n",
    "encrypted_message = encrypt(message, bob_public)\n",
    "signature = sign(message, alice_private)\n",
    "\n",
    "print(f\"Original Message: {message}\")\n",
    "print(f\"Encrypted Message: {encrypted_message}\")\n",
    "\n",
    "decrypted_message = decrypt(encrypted_message, bob_private)\n",
    "print(f\"Decrypted Message: {decrypted_message}\")\n",
    "\n",
    "if verify(decrypted_message, signature, alice_public):\n",
    "    print(\"Signature verified!\")\n",
    "else:\n",
    "    print(\"Signature verification failed.\")"
   ]
  }
 ],
 "metadata": {
  "kernelspec": {
   "display_name": "Python 3",
   "language": "python",
   "name": "python3"
  },
  "language_info": {
   "codemirror_mode": {
    "name": "ipython",
    "version": 3
   },
   "file_extension": ".py",
   "mimetype": "text/x-python",
   "name": "python",
   "nbconvert_exporter": "python",
   "pygments_lexer": "ipython3",
   "version": "3.10.10"
  }
 },
 "nbformat": 4,
 "nbformat_minor": 2
}
